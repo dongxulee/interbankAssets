{
 "cells": [
  {
   "cell_type": "code",
   "execution_count": 39,
   "metadata": {},
   "outputs": [
    {
     "name": "stdout",
     "output_type": "stream",
     "text": [
      "Populating the interactive namespace from numpy and matplotlib\n"
     ]
    }
   ],
   "source": [
    "import pandas as pd\n",
    "import numpy as np\n",
    "import os\n",
    "%pylab inline "
   ]
  },
  {
   "cell_type": "code",
   "execution_count": 50,
   "metadata": {},
   "outputs": [],
   "source": [
    "# open the csv file with sheet name\n",
    "varToName = pd.read_excel('nameMapping.xlsx', sheet_name='Reference-Variables&Definitions')\n",
    "codes = varToName['Variable'].values\n",
    "# construct a dictionary that maps one column to another column \n",
    "code2name = dict(zip(varToName['Variable'], varToName['Title']))"
   ]
  },
  {
   "cell_type": "code",
   "execution_count": 51,
   "metadata": {},
   "outputs": [
    {
     "data": {
      "text/plain": [
       "{'ID', 'INSAGNT1', 'INSDATE'}"
      ]
     },
     "execution_count": 51,
     "metadata": {},
     "output_type": "execute_result"
    }
   ],
   "source": [
    "# read in all the files in totalAssets folder as pandas dataframe\n",
    "noCodes = set()\n",
    "for file in os.listdir('totalAssets'):\n",
    "    df = pd.read_csv('totalAssets/' + file)\n",
    "    for code in df.columns:\n",
    "        if code not in codes:\n",
    "            noCodes.add(code)\n",
    "\n",
    "for file in os.listdir('totalLiabilities'):\n",
    "    df = pd.read_csv('totalLiabilities/' + file)\n",
    "    for code in df.columns:\n",
    "        if code not in codes:\n",
    "            noCodes.add(code)\n",
    "noCodes"
   ]
  },
  {
   "cell_type": "code",
   "execution_count": 59,
   "metadata": {},
   "outputs": [
    {
     "name": "stdout",
     "output_type": "stream",
     "text": [
      "(8461, 225)\n",
      "(8461, 135)\n"
     ]
    }
   ],
   "source": [
    "for file in os.listdir('totalAssets')[:1]:\n",
    "    df = pd.read_csv('totalAssets/' + file)\n",
    "    print(df.shape)\n",
    "for file in os.listdir('totalLiabilities')[:1]:\n",
    "    df = pd.read_csv('totalLiabilities/' + file)\n",
    "    print(df.shape)"
   ]
  },
  {
   "cell_type": "code",
   "execution_count": 62,
   "metadata": {},
   "outputs": [],
   "source": [
    "df_asset = None \n",
    "for file in os.listdir('totalAssets'):\n",
    "    if df_asset is None:\n",
    "        df_asset = pd.read_csv('totalAssets/' + file)\n",
    "    else:\n",
    "        df_asset = pd.concat([df_asset, pd.read_csv('totalAssets/' + file)], axis = 0)"
   ]
  },
  {
   "cell_type": "code",
   "execution_count": 63,
   "metadata": {},
   "outputs": [],
   "source": [
    "df_liability = None \n",
    "for file in os.listdir('totalLiabilities'):\n",
    "    if df_liability is None:\n",
    "        df_liability = pd.read_csv('totalLiabilities/' + file)\n",
    "    else:\n",
    "        df_liability = pd.concat([df_liability, pd.read_csv('totalLiabilities/' + file)], axis = 0)"
   ]
  },
  {
   "cell_type": "code",
   "execution_count": 65,
   "metadata": {},
   "outputs": [
    {
     "name": "stdout",
     "output_type": "stream",
     "text": [
      "(640181, 225)\n",
      "(640181, 135)\n"
     ]
    }
   ],
   "source": [
    "print(df_asset.shape)\n",
    "print(df_liability.shape)"
   ]
  },
  {
   "cell_type": "code",
   "execution_count": 66,
   "metadata": {},
   "outputs": [],
   "source": [
    "df_asset.to_csv('totalAssets.csv', index = False)\n",
    "df_liability.to_csv('totalLiabilities.csv', index = False)"
   ]
  }
 ],
 "metadata": {
  "kernelspec": {
   "display_name": "base",
   "language": "python",
   "name": "python3"
  },
  "language_info": {
   "codemirror_mode": {
    "name": "ipython",
    "version": 3
   },
   "file_extension": ".py",
   "mimetype": "text/x-python",
   "name": "python",
   "nbconvert_exporter": "python",
   "pygments_lexer": "ipython3",
   "version": "3.9.13"
  },
  "orig_nbformat": 4
 },
 "nbformat": 4,
 "nbformat_minor": 2
}
